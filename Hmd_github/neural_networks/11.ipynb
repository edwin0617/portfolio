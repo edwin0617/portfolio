{
 "cells": [
  {
   "cell_type": "code",
   "execution_count": 1,
   "metadata": {},
   "outputs": [
    {
     "name": "stdout",
     "output_type": "stream",
     "text": [
      "/Data1/hmd2/notebooks_th/Hmd_github\n"
     ]
    }
   ],
   "source": [
    "cd /Data1/hmd2/notebooks_th/Hmd_github/"
   ]
  },
  {
   "cell_type": "code",
   "execution_count": 2,
   "metadata": {},
   "outputs": [],
   "source": [
    "from neural_networks.Sublayers import MultiHeadAttention"
   ]
  },
  {
   "cell_type": "code",
   "execution_count": 3,
   "metadata": {},
   "outputs": [],
   "source": []
  },
  {
   "cell_type": "code",
   "execution_count": 4,
   "metadata": {},
   "outputs": [],
   "source": [
    "model = MHA_blocks()"
   ]
  },
  {
   "cell_type": "code",
   "execution_count": 5,
   "metadata": {},
   "outputs": [],
   "source": [
    "import torch\n",
    "\n",
    "input = torch.randn(32, 40, 298)\n",
    "\n",
    "seq_pred, mm_pred = model(input)"
   ]
  },
  {
   "cell_type": "code",
   "execution_count": 6,
   "metadata": {},
   "outputs": [
    {
     "data": {
      "text/plain": [
       "(torch.Size([32, 3, 298]), torch.Size([32, 2]))"
      ]
     },
     "execution_count": 6,
     "metadata": {},
     "output_type": "execute_result"
    }
   ],
   "source": [
    "seq_pred.shape, mm_pred.shape"
   ]
  },
  {
   "cell_type": "code",
   "execution_count": null,
   "metadata": {},
   "outputs": [],
   "source": []
  },
  {
   "cell_type": "code",
   "execution_count": 4,
   "metadata": {},
   "outputs": [
    {
     "name": "stdout",
     "output_type": "stream",
     "text": [
      "/Data1/hmd2/notebooks_th/Hmd_github\n"
     ]
    }
   ],
   "source": [
    "cd /Data1/hmd2/notebooks_th/Hmd_github/"
   ]
  },
  {
   "cell_type": "code",
   "execution_count": 5,
   "metadata": {},
   "outputs": [],
   "source": [
    "from dataset import config, load_dataframes, Stronglabeled_Dataset, Unlabeled_Dataset, MAX_LENGTH, FREQ_BINS, collate_fn\n",
    "from main import check_config_path, make_checkpoint_dirs\n",
    "from neural_networks.MHA_blocks import MHA_blocks"
   ]
  },
  {
   "cell_type": "code",
   "execution_count": 6,
   "metadata": {},
   "outputs": [
    {
     "name": "stdout",
     "output_type": "stream",
     "text": [
      "\n",
      "Train with 751 patients, 2531 recording files.\n"
     ]
    }
   ],
   "source": [
    "# config = check_config_path(config)\n",
    "# config = make_checkpoint_dirs(config)\n",
    "from omegaconf import OmegaConf\n",
    "\n",
    "config_dir = \"/Data1/hmd2/notebooks_th/Hmd_github/config.yaml\"\n",
    "config = OmegaConf.load(config_dir)\n",
    "\n",
    "df_dict = load_dataframes(config) # Load dataframes\n",
    "\n",
    "train_dataset = Stronglabeled_Dataset(config.datapath.train_data, \n",
    "                                        df_dict[\"train_recording_df\"].index, # recording_filenames\n",
    "                                        df_dict[\"train_recording_df\"].murmur_timing, # categorical murmur\n",
    "                                        df_dict[\"train_recording_df\"].rec_murmur_label, # recording murmur label\n",
    "                                        df_dict[\"train_recording_df\"].outcome_label, # patient outcome label\n",
    "                                        sampling_rate= config.dataset.sampling_rate,\n",
    "                                        clean_noise= config.dataset.clean_noise,\n",
    "                                        )\n",
    "unlabeled_dataset = Unlabeled_Dataset(df_dict[\"unlabeled_df\"].parent_path, df_dict[\"unlabeled_df\"].filename, \n",
    "                                sampling_rate = config.dataset.sampling_rate, \n",
    "                                )\n",
    "val_dataset = Stronglabeled_Dataset(config.datapath.train_data, \n",
    "                                    df_dict[\"val_recording_df\"].index, # recording_filenames\n",
    "                                    df_dict[\"val_recording_df\"].murmur_timing, # categorical murmur\n",
    "                                    df_dict[\"val_recording_df\"].rec_murmur_label, # recording murmur label\n",
    "                                    df_dict[\"val_recording_df\"].outcome_label, # patient outcome label\n",
    "                                    sampling_rate= config.dataset.sampling_rate,\n",
    "                                    clean_noise= config.dataset.clean_noise,\n",
    "                                    )"
   ]
  },
  {
   "cell_type": "code",
   "execution_count": 14,
   "metadata": {},
   "outputs": [
    {
     "data": {
      "text/plain": [
       "414"
      ]
     },
     "execution_count": 14,
     "metadata": {},
     "output_type": "execute_result"
    }
   ],
   "source": [
    "len(unlabeled_dataset)"
   ]
  },
  {
   "cell_type": "code",
   "execution_count": 7,
   "metadata": {},
   "outputs": [],
   "source": [
    "from torch.utils.data import DataLoader\n",
    "\n",
    "train_dataloader = DataLoader(train_dataset, batch_size= config.exp_params.strong_bs, shuffle=True, collate_fn= collate_fn, num_workers=config.virtual_settings.num_workers)"
   ]
  },
  {
   "cell_type": "code",
   "execution_count": 8,
   "metadata": {},
   "outputs": [],
   "source": [
    "mels, seq_labels, pad_masks, mm_labels, oc_labels, filenames = next(iter(train_dataloader))"
   ]
  },
  {
   "cell_type": "code",
   "execution_count": 9,
   "metadata": {},
   "outputs": [
    {
     "data": {
      "text/plain": [
       "(torch.Size([80, 40, 298]), torch.Size([80, 3, 298]), torch.Size([80, 298]))"
      ]
     },
     "execution_count": 9,
     "metadata": {},
     "output_type": "execute_result"
    }
   ],
   "source": [
    "mels.shape, seq_labels.shape, pad_masks.shape"
   ]
  },
  {
   "cell_type": "code",
   "execution_count": 7,
   "metadata": {},
   "outputs": [
    {
     "name": "stdout",
     "output_type": "stream",
     "text": [
      "4\n"
     ]
    }
   ],
   "source": [
    "model = MHA_blocks()"
   ]
  },
  {
   "cell_type": "code",
   "execution_count": null,
   "metadata": {},
   "outputs": [],
   "source": []
  },
  {
   "cell_type": "code",
   "execution_count": null,
   "metadata": {},
   "outputs": [],
   "source": []
  },
  {
   "cell_type": "code",
   "execution_count": 1,
   "metadata": {},
   "outputs": [
    {
     "name": "stdout",
     "output_type": "stream",
     "text": [
      "/Data1/hmd2/notebooks_th/AttnLSTM_exp\n"
     ]
    }
   ],
   "source": [
    "cd /Data1/hmd2/notebooks_th/AttnLSTM_exp/"
   ]
  },
  {
   "cell_type": "code",
   "execution_count": 2,
   "metadata": {},
   "outputs": [],
   "source": [
    "import torch \n",
    "import torch.nn as nn \n",
    "import torch.nn.functional as F\n",
    "\n",
    "from model import MHA_LSTM_simpler22"
   ]
  },
  {
   "cell_type": "code",
   "execution_count": 3,
   "metadata": {},
   "outputs": [
    {
     "data": {
      "text/plain": [
       "(torch.Size([32, 3, 298]), torch.Size([32, 2]))"
      ]
     },
     "execution_count": 3,
     "metadata": {},
     "output_type": "execute_result"
    }
   ],
   "source": [
    "nn_model = MHA_LSTM_simpler22()\n",
    "\n",
    "input = torch.randn(32, 40, 298)\n",
    "seq_pred, mm_linear_input  = nn_model(input)\n",
    "seq_pred.shape, mm_linear_input.shape"
   ]
  },
  {
   "cell_type": "code",
   "execution_count": 4,
   "metadata": {},
   "outputs": [
    {
     "data": {
      "text/plain": [
       "tensor([[-0.5980, -0.6717]])"
      ]
     },
     "execution_count": 4,
     "metadata": {},
     "output_type": "execute_result"
    }
   ],
   "source": [
    "a = torch.randn(1, 2)\n",
    "a"
   ]
  },
  {
   "cell_type": "code",
   "execution_count": 5,
   "metadata": {},
   "outputs": [
    {
     "data": {
      "text/plain": [
       "(tensor([[0.3548, 0.3381]]), tensor([[0.5184, 0.4816]]))"
      ]
     },
     "execution_count": 5,
     "metadata": {},
     "output_type": "execute_result"
    }
   ],
   "source": [
    "F.sigmoid(a), F.softmax(a, dim= -1)"
   ]
  },
  {
   "cell_type": "code",
   "execution_count": null,
   "metadata": {},
   "outputs": [],
   "source": []
  }
 ],
 "metadata": {
  "kernelspec": {
   "display_name": "base",
   "language": "python",
   "name": "python3"
  },
  "language_info": {
   "codemirror_mode": {
    "name": "ipython",
    "version": 3
   },
   "file_extension": ".py",
   "mimetype": "text/x-python",
   "name": "python",
   "nbconvert_exporter": "python",
   "pygments_lexer": "ipython3",
   "version": "3.10.11"
  }
 },
 "nbformat": 4,
 "nbformat_minor": 2
}
