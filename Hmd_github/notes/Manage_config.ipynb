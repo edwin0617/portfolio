{
 "cells": [
  {
   "cell_type": "code",
   "execution_count": 1,
   "metadata": {},
   "outputs": [],
   "source": [
    "import yaml"
   ]
  },
  {
   "cell_type": "code",
   "execution_count": 2,
   "metadata": {},
   "outputs": [],
   "source": [
    "config_params = {\n",
    "    \"virtual_settings\": {\"debug\": True, \n",
    "                        \"tuning\": False, \n",
    "                        \"gpu_index\": '0', \n",
    "                        \"num_workers\": 8, \n",
    "                        \"verbose\": 1, \n",
    "                         },\n",
    "    \n",
    "    \"datapath\": {\"train_data\": \"/Data2/murmur/train\", \n",
    "                \"test_data\": \"/Data2/murmur/test\", \n",
    "                \"external_data\": \"/Data2/heart_sound_dataset\",\n",
    "                \"checkpoint_path\": \"/Data1/hmd2/notebooks_th/Hmd_github/exps/MHA_LSTM_Semi\",\n",
    "                 }, \n",
    "    \n",
    "    \"dataset\": {\"frequency_high\": 800,\n",
    "                \"sampling_rate\": 4000,\n",
    "                \"window_length\": 0.050,\n",
    "                \"hop_length\": 0.020,\n",
    "                \"sequence_length\": 6,\n",
    "                \"clean_noise\": True, \n",
    "                \"num_k\": 5, \n",
    "                \"val_fold_num\": 3\n",
    "                                 }, \n",
    "    \n",
    "    \"exp_params\": {\"random_seed\": 0,\n",
    "                    \"total_epoch\": 250, \n",
    "                    \"strong_bs\": 80, \n",
    "                    \"unlabel_bs\": 160, \n",
    "                    \"val_bs\": 120, \n",
    "                    \"learning_rate\": 1e-4 * 5, \n",
    "                    \"training_patience\": 10, \n",
    "                    \"ema_factor\": 0.99,\n",
    "                    \"const_max\": 1,\n",
    "                    \"mixup_alpha\": 0.2,\n",
    "                    \"mixup_beta\": 0.2,\n",
    "                    \"mixup_label_type\": \"soft\", \n",
    "                    \"use_mix_up\": False, \n",
    "                    \"pos_weight\": 4.0\n",
    "                                 },\n",
    "    \n",
    "                 \n",
    "                 }"
   ]
  },
  {
   "cell_type": "code",
   "execution_count": 3,
   "metadata": {},
   "outputs": [],
   "source": [
    "# /Data1/hmd2/notebooks_th/Hmd_github"
   ]
  },
  {
   "cell_type": "code",
   "execution_count": 4,
   "metadata": {},
   "outputs": [],
   "source": [
    "with open(\"/Data1/hmd2/notebooks_th/Hmd_github/config.yaml\", \"w\") as file:\n",
    "    yaml.dump(config_params, file, default_flow_style=False, allow_unicode=True)"
   ]
  },
  {
   "cell_type": "code",
   "execution_count": 5,
   "metadata": {},
   "outputs": [],
   "source": [
    "config_dir = \"/Data1/hmd2/notebooks_th/Hmd_github/config.yaml\"\n",
    "\n",
    "with open(config_dir, \"r\") as f:\n",
    "        configs = yaml.safe_load(f)"
   ]
  },
  {
   "cell_type": "code",
   "execution_count": 6,
   "metadata": {},
   "outputs": [
    {
     "data": {
      "text/plain": [
       "{'datapath': {'checkpoint_path': '/Data1/hmd2/notebooks_th/Hmd_github/exps/MHA_LSTM_Semi',\n",
       "  'external_data': '/Data2/heart_sound_dataset',\n",
       "  'test_data': '/Data2/murmur/test',\n",
       "  'train_data': '/Data2/murmur/train'},\n",
       " 'dataset': {'clean_noise': True,\n",
       "  'frequency_high': 800,\n",
       "  'hop_length': 0.02,\n",
       "  'num_k': 5,\n",
       "  'sampling_rate': 4000,\n",
       "  'sequence_length': 6,\n",
       "  'val_fold_num': 3,\n",
       "  'window_length': 0.05},\n",
       " 'exp_params': {'const_max': 1,\n",
       "  'ema_factor': 0.99,\n",
       "  'learning_rate': 0.0005,\n",
       "  'mixup_alpha': 0.2,\n",
       "  'mixup_beta': 0.2,\n",
       "  'mixup_label_type': 'soft',\n",
       "  'pos_weight': 4.0,\n",
       "  'random_seed': 0,\n",
       "  'strong_bs': 80,\n",
       "  'total_epoch': 250,\n",
       "  'training_patience': 10,\n",
       "  'unlabel_bs': 160,\n",
       "  'use_mix_up': False,\n",
       "  'val_bs': 120},\n",
       " 'virtual_settings': {'debug': True,\n",
       "  'gpu_index': '0',\n",
       "  'num_workers': 8,\n",
       "  'tuning': False,\n",
       "  'verbose': 1}}"
      ]
     },
     "execution_count": 6,
     "metadata": {},
     "output_type": "execute_result"
    }
   ],
   "source": [
    "configs"
   ]
  },
  {
   "cell_type": "markdown",
   "metadata": {},
   "source": [
    "### OmegaConf 패키지 이용"
   ]
  },
  {
   "cell_type": "code",
   "execution_count": 34,
   "metadata": {},
   "outputs": [],
   "source": [
    "from omegaconf import OmegaConf"
   ]
  },
  {
   "cell_type": "code",
   "execution_count": 35,
   "metadata": {},
   "outputs": [],
   "source": [
    "config_params = OmegaConf.load(config_dir)"
   ]
  },
  {
   "cell_type": "code",
   "execution_count": 36,
   "metadata": {},
   "outputs": [
    {
     "data": {
      "text/plain": [
       "dict_keys(['datapath', 'dataset', 'exp_params', 'virtual_settings'])"
      ]
     },
     "execution_count": 36,
     "metadata": {},
     "output_type": "execute_result"
    }
   ],
   "source": [
    "config_params.keys()"
   ]
  },
  {
   "cell_type": "code",
   "execution_count": 37,
   "metadata": {},
   "outputs": [
    {
     "data": {
      "text/plain": [
       "800"
      ]
     },
     "execution_count": 37,
     "metadata": {},
     "output_type": "execute_result"
    }
   ],
   "source": [
    "config_params.dataset.frequency_high"
   ]
  },
  {
   "cell_type": "code",
   "execution_count": 38,
   "metadata": {},
   "outputs": [],
   "source": [
    "dataset = config_params.dataset"
   ]
  },
  {
   "cell_type": "code",
   "execution_count": 39,
   "metadata": {},
   "outputs": [
    {
     "data": {
      "text/plain": [
       "{'clean_noise': True, 'frequency_high': 800, 'hop_length': 0.02, 'num_k': 5, 'sampling_rate': 4000, 'sequence_length': 6, 'val_fold_num': 3, 'window_length': 0.05}"
      ]
     },
     "execution_count": 39,
     "metadata": {},
     "output_type": "execute_result"
    }
   ],
   "source": [
    "dataset"
   ]
  },
  {
   "cell_type": "code",
   "execution_count": null,
   "metadata": {},
   "outputs": [],
   "source": []
  },
  {
   "cell_type": "markdown",
   "metadata": {},
   "source": [
    "### Copy config to default_config"
   ]
  },
  {
   "cell_type": "code",
   "execution_count": 40,
   "metadata": {},
   "outputs": [
    {
     "name": "stdout",
     "output_type": "stream",
     "text": [
      "cp: cannot stat 'config.yaml': No such file or directory\n"
     ]
    }
   ],
   "source": [
    "# !cp config.yaml /Data1/hmd2/notebooks_th/GRU_loss_add/config_default.yaml"
   ]
  },
  {
   "cell_type": "markdown",
   "metadata": {},
   "source": [
    "### Check config to default_config"
   ]
  },
  {
   "cell_type": "code",
   "execution_count": 41,
   "metadata": {},
   "outputs": [],
   "source": [
    "# import yaml\n",
    "\n",
    "# config_dir = \"/Data1/hmd2/notebooks_th/GRU_loss_add/config_default.yaml\"\n",
    "\n",
    "# with open(config_dir, \"r\") as f:\n",
    "#         configs = yaml.safe_load(f)"
   ]
  },
  {
   "cell_type": "code",
   "execution_count": null,
   "metadata": {},
   "outputs": [],
   "source": []
  },
  {
   "cell_type": "code",
   "execution_count": 2,
   "metadata": {},
   "outputs": [
    {
     "data": {
      "text/plain": [
       "{'datapath': {'checkpoint_path': '/Data1/hmd2/notebooks_th/Hmd_github/MHA_LSTM_Semi', 'external_data': '/Data2/heart_sound_dataset', 'test_data': '/Data2/murmur/test', 'train_data': '/Data2/murmur/train'}, 'dataset': {'clean_noise': True, 'frequency_high': 800, 'hop_length': 0.02, 'num_k': 5, 'sampling_rate': 4000, 'sequence_length': 6, 'val_fold_num': 3, 'window_length': 0.05}, 'exp_params': {'const_max': 1, 'ema_factor': 0.99, 'learning_rate': 0.0005, 'mixup_alpha': 0.2, 'mixup_beta': 0.2, 'mixup_label_type': 'soft', 'pos_weight': 4.0, 'random_seed': 0, 'strong_bs': 80, 'total_epoch': 250, 'training_patience': 10, 'unlabel_bs': 160, 'use_mix_up': False, 'val_bs': 120}, 'virtual_settings': {'debug': True, 'gpu_index': '0', 'num_workers': 8, 'tuning': False, 'verbose': 1}}"
      ]
     },
     "execution_count": 2,
     "metadata": {},
     "output_type": "execute_result"
    }
   ],
   "source": [
    "import pathlib\n",
    "from omegaconf import OmegaConf\n",
    "\n",
    "config_dir = \"/Data1/hmd2/notebooks_th/Hmd_github/config.yaml\"\n",
    "\n",
    "config = OmegaConf.load(config_dir)\n",
    "\n",
    "config\n",
    "\n"
   ]
  },
  {
   "cell_type": "code",
   "execution_count": 3,
   "metadata": {},
   "outputs": [
    {
     "data": {
      "text/plain": [
       "{'datapath': {'checkpoint_path': PosixPath('/Data1/hmd2/notebooks_th/Hmd_github/MHA_LSTM_Semi'), 'external_data': PosixPath('/Data2/heart_sound_dataset'), 'test_data': PosixPath('/Data2/murmur/test'), 'train_data': PosixPath('/Data2/murmur/train')}, 'dataset': {'clean_noise': True, 'frequency_high': 800, 'hop_length': 0.02, 'num_k': 5, 'sampling_rate': 4000, 'sequence_length': 6, 'val_fold_num': 3, 'window_length': 0.05}, 'exp_params': {'const_max': 1, 'ema_factor': 0.99, 'learning_rate': 0.0005, 'mixup_alpha': 0.2, 'mixup_beta': 0.2, 'mixup_label_type': 'soft', 'pos_weight': 4.0, 'random_seed': 0, 'strong_bs': 80, 'total_epoch': 250, 'training_patience': 10, 'unlabel_bs': 160, 'use_mix_up': False, 'val_bs': 120}, 'virtual_settings': {'debug': True, 'gpu_index': '0', 'num_workers': 8, 'tuning': False, 'verbose': 1}}"
      ]
     },
     "execution_count": 3,
     "metadata": {},
     "output_type": "execute_result"
    }
   ],
   "source": [
    "def path_to_pathlibpath(config):\n",
    "    config.datapath.train_data = pathlib.Path(config.datapath.train_data)\n",
    "    config.datapath.test_data = pathlib.Path(config.datapath.test_data)\n",
    "    config.datapath.external_data = pathlib.Path(config.datapath.external_data)\n",
    "    config.datapath.checkpoint_path = pathlib.Path(config.datapath.checkpoint_path)\n",
    "    return config \n",
    "\n",
    "config = path_to_pathlibpath(config)\n",
    "config"
   ]
  },
  {
   "cell_type": "code",
   "execution_count": 4,
   "metadata": {},
   "outputs": [
    {
     "data": {
      "text/plain": [
       "pathlib.PosixPath"
      ]
     },
     "execution_count": 4,
     "metadata": {},
     "output_type": "execute_result"
    }
   ],
   "source": [
    "type(config.datapath.checkpoint_path)"
   ]
  }
 ],
 "metadata": {
  "kernelspec": {
   "display_name": "base",
   "language": "python",
   "name": "python3"
  },
  "language_info": {
   "codemirror_mode": {
    "name": "ipython",
    "version": 3
   },
   "file_extension": ".py",
   "mimetype": "text/x-python",
   "name": "python",
   "nbconvert_exporter": "python",
   "pygments_lexer": "ipython3",
   "version": "3.10.11"
  }
 },
 "nbformat": 4,
 "nbformat_minor": 2
}
