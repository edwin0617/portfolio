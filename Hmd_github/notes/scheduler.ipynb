{
 "cells": [
  {
   "cell_type": "code",
   "execution_count": 7,
   "metadata": {},
   "outputs": [],
   "source": [
    "import torch\n",
    "import torch.nn as nn\n",
    "import torch.optim as optim\n",
    "from torch.optim.lr_scheduler import ReduceLROnPlateau, OneCycleLR\n",
    "# from scheduler import ExponentialWarmup"
   ]
  },
  {
   "cell_type": "code",
   "execution_count": 8,
   "metadata": {},
   "outputs": [],
   "source": [
    "# MLP 모델 정의\n",
    "class MLP(nn.Module):\n",
    "    def __init__(self, input_size, hidden1, hidden2, num_classes):\n",
    "        super(MLP, self).__init__()\n",
    "        self.fc1 = nn.Linear(input_size, hidden1)  # 첫 번째 히든 레이어\n",
    "        self.fc2 = nn.Linear(hidden1, hidden2)     # 두 번째 히든 레이어\n",
    "        self.fc3 = nn.Linear(hidden2, num_classes) # 출력 레이어\n",
    "        \n",
    "    def forward(self, x):\n",
    "        x = torch.relu(self.fc1(x))  # 첫 번째 히든 레이어에 ReLU 활성화 함수 적용\n",
    "        x = torch.relu(self.fc2(x))  # 두 번째 히든 레이어에 ReLU 활성화 함수 적용\n",
    "        x = torch.softmax(self.fc3(x), dim=1)  # 출력층에 softmax 활성화 함수 적용\n",
    "        return x\n",
    "\n",
    "# 모델 초기화\n",
    "input_size = 784  # 입력 크기 (예: 28x28 픽셀 이미지를 펼친 형태)\n",
    "hidden1 = 64      # 첫 번째 히든 레이어 뉴런 수\n",
    "hidden2 = 32      # 두 번째 히든 레이어 뉴런 수\n",
    "num_classes = 10  # 출력 클래스 수 (예: 10개의 숫자)\n",
    "\n",
    "model = MLP(input_size, hidden1, hidden2, num_classes)"
   ]
  },
  {
   "cell_type": "code",
   "execution_count": null,
   "metadata": {},
   "outputs": [],
   "source": []
  },
  {
   "cell_type": "code",
   "execution_count": null,
   "metadata": {},
   "outputs": [],
   "source": []
  },
  {
   "cell_type": "code",
   "execution_count": null,
   "metadata": {},
   "outputs": [],
   "source": []
  },
  {
   "cell_type": "code",
   "execution_count": null,
   "metadata": {},
   "outputs": [],
   "source": []
  },
  {
   "cell_type": "code",
   "execution_count": null,
   "metadata": {},
   "outputs": [],
   "source": []
  },
  {
   "cell_type": "code",
   "execution_count": null,
   "metadata": {},
   "outputs": [],
   "source": []
  }
 ],
 "metadata": {
  "kernelspec": {
   "display_name": "base",
   "language": "python",
   "name": "python3"
  },
  "language_info": {
   "codemirror_mode": {
    "name": "ipython",
    "version": 3
   },
   "file_extension": ".py",
   "mimetype": "text/x-python",
   "name": "python",
   "nbconvert_exporter": "python",
   "pygments_lexer": "ipython3",
   "version": "3.10.11"
  }
 },
 "nbformat": 4,
 "nbformat_minor": 2
}
