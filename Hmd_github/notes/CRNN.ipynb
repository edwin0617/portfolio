{
 "cells": [
  {
   "cell_type": "code",
   "execution_count": 1,
   "metadata": {},
   "outputs": [],
   "source": [
    "import torch\n",
    "import torch.nn as nn\n",
    "import torch.nn.functional as F\n",
    "\n",
    "import numpy as np\n",
    "\n",
    "class ConvBlock(nn.Module):\n",
    "    def __init__(self, in_channels, out_channels, kernel_size, pool_size, dropout):\n",
    "        super().__init__()\n",
    "        self.conv = nn.Conv1d(in_channels=in_channels, out_channels=out_channels, kernel_size=kernel_size, padding='same')\n",
    "        self.mp = nn.MaxPool1d(kernel_size=pool_size, stride=pool_size)\n",
    "        self.do = nn.Dropout(dropout)\n",
    "\n",
    "    def forward(self, x):\n",
    "        x = F.relu(self.conv(x))\n",
    "        \n",
    "        # print(x.shape)\n",
    "        \n",
    "        x = self.mp(x)\n",
    "        x = self.do(x)\n",
    "        return x\n",
    "\n",
    "class DeepGXP(nn.Module):\n",
    "    \"\"\"DeepGXP model derived from DanQ.\n",
    "\n",
    "    conv_out_dim = 320\n",
    "    conv_kernel_sizes = [10, 15]\n",
    "    pool_size = 4\n",
    "    lstm_hidden_dim = 320\n",
    "    fc_hidden_dim = 64\n",
    "    dropout1 = 0.2\n",
    "    dropout2 = 0.5\n",
    "\n",
    "    \"\"\"\n",
    "    def __init__(self, conv_out_dim= 512, conv_kernel_sizes=[9, 15], pool_size=1, lstm_hidden_size= 320, dropout1=0.2, dropout2=0.5):  \n",
    "        super().__init__()\n",
    "        # Default\n",
    "        ## lstm_hidden_size= 320\n",
    "        \n",
    "        out_channels_each = int(conv_out_dim / len(conv_kernel_sizes))  # 256\n",
    "                \n",
    "        self.conv_blocks1 = nn.ModuleList([\n",
    "            ConvBlock(40, out_channels_each, k, pool_size, dropout1) for k in conv_kernel_sizes\n",
    "        ])\n",
    "        self.bi_lstm = nn.LSTM(input_size=conv_out_dim, hidden_size=lstm_hidden_size, batch_first=True, bidirectional=True)\n",
    "\n",
    "        out_channels_each = int(lstm_hidden_size / len(conv_kernel_sizes))\n",
    "        self.conv_blocks2 = nn.ModuleList([\n",
    "            ConvBlock(lstm_hidden_size * 2, out_channels_each, k, pool_size, dropout1) for k in conv_kernel_sizes\n",
    "        ])\n",
    "        self.do2 = nn.Dropout(0.5)\n",
    "        \n",
    "        self.linear1 = nn.Linear(lstm_hidden_size * 2, 64)\n",
    "        self.linear2 = nn.Linear(64, 3)\n",
    "        \n",
    "        \n",
    "        # self.linear1 = nn.Linear(lstm_hidden_size * 2 * 110 // 2, 64)\n",
    "        # self.linear1 = nn.Linear(lstm_hidden_size * 2 * 298, 64)\n",
    "        # self.linear2 = nn.Linear(64, 64)\n",
    "        # self.linear3 = nn.Linear(64, 1)\n",
    "\n",
    "        self.lstm_hidden_size = lstm_hidden_size\n",
    "    \n",
    "    def forward(self, x):\n",
    "        \"\"\"Expects input shape x: bsz x 4 x L\n",
    "        where max sequence length = L\n",
    "        \"\"\"\n",
    "        bsz = x.size(0) # batch size\n",
    "        # h0 = torch.zeros(2, bsz, self.lstm_hidden_size).to(x.device)\n",
    "        # c0 = torch.zeros(2, bsz, self.lstm_hidden_size).to(x.device)\n",
    "        ## do not need to create Initial zero tensor\n",
    "\n",
    "        conv_outputs = []\n",
    "        for conv in self.conv_blocks1:            \n",
    "            conv_outputs.append(conv(x))\n",
    "        x = torch.cat(conv_outputs, dim=1)\n",
    "        \n",
    "        print(\"여기까지 문제없다!\") # [32, 512, 298], [B, Ch, L]\n",
    "        print(x.shape)\n",
    "\n",
    "        # x, (h, c) = self.bi_lstm(x.permute(0, 2, 1), (h0, c0))\n",
    "        x, (h, c) = self.bi_lstm(x.permute(0, 2, 1)) # [B, L, Ch]\n",
    "        \n",
    "        x = F.relu(self.linear1(x))\n",
    "        x = F.relu(self.linear2(x))\n",
    "        x = self.do2(x)\n",
    "        \n",
    "        x = x.permute(0, 2, 1)\n",
    "        \n",
    "        # x = x.permute(0, 2, 1) # bsz x 320 x L\n",
    "\n",
    "        # conv_outputs = []\n",
    "        # for conv in self.conv_blocks2:\n",
    "        #     conv_outputs.append(conv(x))\n",
    "        # x = torch.cat(conv_outputs, dim=1).permute(0, 2, 1)\n",
    "        \n",
    "        # print(\"여기까지 문제없다!\")\n",
    "        # print(x.shape) # [32, 298, 320], [B, L, Ch]\n",
    "\n",
    "        # x = self.do2(x)\n",
    "\n",
    "        # x = F.relu(self.linear1(x.reshape(bsz, -1)))\n",
    "        # x = F.relu(self.linear2(x))\n",
    "        # x = self.linear3(x)\n",
    "\n",
    "        return x"
   ]
  },
  {
   "cell_type": "code",
   "execution_count": null,
   "metadata": {},
   "outputs": [],
   "source": [
    "model = DeepGXP()\n",
    "\n",
    "x = torch.randn([32, 40, 298]) # batch, ???, Length\n",
    "output = model(x)\n",
    "\n",
    "output.shape"
   ]
  },
  {
   "cell_type": "code",
   "execution_count": null,
   "metadata": {},
   "outputs": [],
   "source": []
  },
  {
   "cell_type": "code",
   "execution_count": null,
   "metadata": {},
   "outputs": [],
   "source": []
  },
  {
   "cell_type": "code",
   "execution_count": 4,
   "metadata": {},
   "outputs": [],
   "source": [
    "import torch\n",
    "import torch.nn as nn\n",
    "import torch.nn.functional as F"
   ]
  },
  {
   "cell_type": "code",
   "execution_count": 21,
   "metadata": {},
   "outputs": [],
   "source": [
    "in_channels= 4\n",
    "out_channels= 6\n",
    "kernel_size= 3\n",
    "\n",
    "conv1d_layer1 = nn.Conv1d(in_channels=in_channels, out_channels=out_channels, kernel_size=kernel_size)"
   ]
  },
  {
   "cell_type": "code",
   "execution_count": null,
   "metadata": {},
   "outputs": [],
   "source": [
    "input_data = torch.rand(1, 4, 10)\n",
    "\n",
    "output = conv1d_layer1(input_data)\n",
    "output.shape"
   ]
  },
  {
   "cell_type": "code",
   "execution_count": null,
   "metadata": {},
   "outputs": [],
   "source": []
  },
  {
   "cell_type": "code",
   "execution_count": null,
   "metadata": {},
   "outputs": [],
   "source": []
  },
  {
   "cell_type": "code",
   "execution_count": 1,
   "metadata": {},
   "outputs": [
    {
     "name": "stdout",
     "output_type": "stream",
     "text": [
      "/Data1/hmd2/notebooks_th/Hmd_github/neural_networks\n"
     ]
    }
   ],
   "source": [
    "cd /Data1/hmd2/notebooks_th/Hmd_github/neural_networks"
   ]
  },
  {
   "cell_type": "code",
   "execution_count": 2,
   "metadata": {},
   "outputs": [
    {
     "name": "stdout",
     "output_type": "stream",
     "text": [
      "CRNN.py  GRU_hidden.py  MHA_LSTM_hidden.py  __init__.py  \u001b[0m\u001b[01;34m__pycache__\u001b[0m/\n"
     ]
    }
   ],
   "source": [
    "ls"
   ]
  },
  {
   "cell_type": "code",
   "execution_count": 10,
   "metadata": {},
   "outputs": [],
   "source": [
    "from MHA_LSTM_hidden import MHA_LSTM_hidden\n",
    "\n",
    "model = MHA_LSTM_hidden()"
   ]
  },
  {
   "cell_type": "code",
   "execution_count": 14,
   "metadata": {},
   "outputs": [],
   "source": [
    "import torch \n",
    "\n",
    "input = torch.randn(4, 40 ,298)\n",
    "seq_pred, murmur_pred = model(input)"
   ]
  },
  {
   "cell_type": "code",
   "execution_count": 17,
   "metadata": {},
   "outputs": [
    {
     "data": {
      "text/plain": [
       "(torch.Size([4, 3, 298]), torch.Size([4, 2]))"
      ]
     },
     "execution_count": 17,
     "metadata": {},
     "output_type": "execute_result"
    }
   ],
   "source": [
    "seq_pred.shape, murmur_pred.shape"
   ]
  },
  {
   "cell_type": "code",
   "execution_count": null,
   "metadata": {},
   "outputs": [],
   "source": []
  },
  {
   "cell_type": "code",
   "execution_count": null,
   "metadata": {},
   "outputs": [],
   "source": []
  },
  {
   "cell_type": "code",
   "execution_count": null,
   "metadata": {},
   "outputs": [],
   "source": []
  },
  {
   "cell_type": "code",
   "execution_count": null,
   "metadata": {},
   "outputs": [],
   "source": []
  }
 ],
 "metadata": {
  "kernelspec": {
   "display_name": "base",
   "language": "python",
   "name": "python3"
  },
  "language_info": {
   "codemirror_mode": {
    "name": "ipython",
    "version": 3
   },
   "file_extension": ".py",
   "mimetype": "text/x-python",
   "name": "python",
   "nbconvert_exporter": "python",
   "pygments_lexer": "ipython3",
   "version": "3.10.11"
  }
 },
 "nbformat": 4,
 "nbformat_minor": 2
}
