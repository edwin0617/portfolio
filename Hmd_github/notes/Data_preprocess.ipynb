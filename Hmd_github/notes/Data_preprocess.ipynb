{
 "cells": [
  {
   "cell_type": "code",
   "execution_count": 1,
   "metadata": {},
   "outputs": [
    {
     "name": "stdout",
     "output_type": "stream",
     "text": [
      "/Data1/hmd2/notebooks_th/Hmd_github\n"
     ]
    }
   ],
   "source": [
    "cd /Data1/hmd2/notebooks_th/Hmd_github/"
   ]
  },
  {
   "cell_type": "code",
   "execution_count": 2,
   "metadata": {},
   "outputs": [],
   "source": [
    "from dataset import load_dataframes, Stronglabeled_Dataset, Unlabeled_Dataset"
   ]
  },
  {
   "cell_type": "code",
   "execution_count": 3,
   "metadata": {},
   "outputs": [],
   "source": [
    "from omegaconf import OmegaConf\n",
    "\n",
    "config_dir = \"/Data1/hmd2/notebooks_th/Hmd_github/config.yaml\"\n",
    "config = OmegaConf.load(config_dir)"
   ]
  },
  {
   "cell_type": "code",
   "execution_count": 4,
   "metadata": {},
   "outputs": [
    {
     "name": "stdout",
     "output_type": "stream",
     "text": [
      "\n",
      "Train with 751 patients, 2531 recording files.\n"
     ]
    }
   ],
   "source": [
    "df_dict = load_dataframes(config)"
   ]
  },
  {
   "cell_type": "code",
   "execution_count": 7,
   "metadata": {},
   "outputs": [
    {
     "name": "stdout",
     "output_type": "stream",
     "text": [
      "\n",
      "Train with 751 patients, 2531 recording files.\n"
     ]
    }
   ],
   "source": [
    "df_dict = load_dataframes(config)\n",
    "\n",
    "train_dataset = Stronglabeled_Dataset(config.datapath.train_data, \n",
    "                                        df_dict[\"train_recording_df\"].index, # recording_filenames\n",
    "                                        df_dict[\"train_recording_df\"].murmur_timing, # categorical murmur\n",
    "                                        df_dict[\"train_recording_df\"].rec_murmur_label, # recording murmur label\n",
    "                                        df_dict[\"train_recording_df\"].outcome_label, # patient outcome label\n",
    "                                        sampling_rate= config.dataset.sampling_rate,\n",
    "                                        clean_noise= config.dataset.clean_noise,\n",
    "                                        )"
   ]
  },
  {
   "cell_type": "markdown",
   "metadata": {},
   "source": [
    "### Check Labeled Dataset"
   ]
  },
  {
   "cell_type": "code",
   "execution_count": 8,
   "metadata": {},
   "outputs": [
    {
     "name": "stdout",
     "output_type": "stream",
     "text": [
      "Pre-processing is Done!\n"
     ]
    }
   ],
   "source": [
    "import torch\n",
    "\n",
    "nan_list = []\n",
    "\n",
    "for idx, (features, segmentation_label, murmur_label, outcome_label, wav_len, filename) in enumerate(train_dataset):\n",
    "    if torch.isnan(features).any() or torch.isnan(features).any():\n",
    "        nan_list.append(filename)\n",
    "    elif torch.isinf(features).any() or torch.isinf(features).any():\n",
    "        nan_list.append(filename)\n",
    "        \n",
    "if nan_list:\n",
    "    print(f\"There are {len(nan_list)} nan files in pre-processing....\")\n",
    "else:\n",
    "    print(\"Pre-processing is Done!\")\n",
    "    "
   ]
  },
  {
   "cell_type": "code",
   "execution_count": 9,
   "metadata": {},
   "outputs": [
    {
     "data": {
      "text/plain": [
       "705"
      ]
     },
     "execution_count": 9,
     "metadata": {},
     "output_type": "execute_result"
    }
   ],
   "source": [
    "# external_df  = get_external_df(external_dirs)\n",
    "\n",
    "external_df = df_dict[\"unlabeled_df\"]\n",
    "len(external_df)"
   ]
  },
  {
   "cell_type": "code",
   "execution_count": 11,
   "metadata": {},
   "outputs": [],
   "source": [
    "unlabeled_dataset = Unlabeled_Dataset(external_df.parent_path, external_df.filename, \n",
    "          \n",
    "                                    sampling_rate = config.dataset.sampling_rate, \n",
    "                                    )"
   ]
  },
  {
   "cell_type": "markdown",
   "metadata": {},
   "source": [
    "### Check Unlabeled dataset"
   ]
  },
  {
   "cell_type": "code",
   "execution_count": 13,
   "metadata": {},
   "outputs": [
    {
     "name": "stdout",
     "output_type": "stream",
     "text": [
      "Pre-processing is Done!\n"
     ]
    }
   ],
   "source": [
    "import torch\n",
    "\n",
    "nan_list = []\n",
    "\n",
    "for idx, (features, segmentation_label, murmur_label, outcome_label, wav_len, filename) in enumerate(unlabeled_dataset):\n",
    "    if torch.isnan(features).any() or torch.isnan(features).any():\n",
    "        nan_list.append(filename)\n",
    "    elif torch.isinf(features).any() or torch.isinf(features).any():\n",
    "        nan_list.append(filename)\n",
    "        \n",
    "if nan_list:\n",
    "    print(f\"There are {len(nan_list)} nan files in pre-processing....\")\n",
    "else:\n",
    "    print(\"Pre-processing is Done!\")"
   ]
  },
  {
   "cell_type": "code",
   "execution_count": 5,
   "metadata": {},
   "outputs": [
    {
     "data": {
      "text/plain": [
       "['artifact__201106010602.wav',\n",
       " 'normal__201103140135.wav',\n",
       " 'extrahls__201102071835.wav',\n",
       " 'normal__201103140822.wav',\n",
       " 'artifact__201106031558.wav',\n",
       " 'Aunlabelledtest__201103140236.wav',\n",
       " 'murmur__201108222232.wav',\n",
       " 'artifact__201106040933.wav',\n",
       " 'Aunlabelledtest__201102081033.wav',\n",
       " 'artifact__201106061233.wav',\n",
       " 'extrahls__201103150114.wav',\n",
       " 'normal__201106221418.wav',\n",
       " 'artifact__201106220340.wav',\n",
       " 'Aunlabelledtest__201106030607.wav',\n",
       " 'Aunlabelledtest__201106100606.wav',\n",
       " 'Aunlabelledtest__201103011036.wav',\n",
       " 'murmur__201108222256.wav',\n",
       " 'Aunlabelledtest__201105031730.wav',\n",
       " 'artifact__201105060108.wav',\n",
       " 'normal__201101070538.wav',\n",
       " 'artifact__201106010559.wav',\n",
       " 'murmur__201104291843.wav',\n",
       " 'Aunlabelledtest__2011040239.wav',\n",
       " 'murmur__201108222248.wav',\n",
       " 'extrahls__201103200218.wav',\n",
       " 'murmur__201108222238.wav',\n",
       " 'Aunlabelledtest__201103200518.wav',\n",
       " 'normal__201102201230.wav',\n",
       " 'Aunlabelledtest__201106150614.wav',\n",
       " 'Aunlabelledtest__201106211725.wav',\n",
       " 'extrahls__201101241433.wav',\n",
       " 'murmur__201108222236.wav',\n",
       " 'murmur__201108222223.wav',\n",
       " 'artifact__201105051017.wav',\n",
       " 'Aunlabelledtest__201108011113.wav',\n",
       " 'Aunlabelledtest__201106031556.wav',\n",
       " 'Aunlabelledtest__201108222254.wav',\n",
       " 'Aunlabelledtest__201103232251.wav',\n",
       " 'extrahls__201103182227.wav',\n",
       " 'Aunlabelledtest__201108011116.wav',\n",
       " 'murmur__201108222255.wav',\n",
       " 'artifact__201106171003.wav',\n",
       " 'Aunlabelledtest__201108222241.wav',\n",
       " 'murmur__201108222233.wav',\n",
       " 'Aunlabelledtest__201106120928.wav',\n",
       " 'murmur__201104021355.wav',\n",
       " 'extrahls__201101160808.wav',\n",
       " 'murmur__201108222235.wav',\n",
       " 'normal__201104122156.wav',\n",
       " 'murmur__201108222227.wav',\n",
       " 'murmur__201108222242.wav',\n",
       " 'artifact__201106111119.wav',\n",
       " 'Aunlabelledtest__201106170857.wav',\n",
       " 'artifact__201106040947.wav',\n",
       " 'artifact__201106161219.wav',\n",
       " 'artifact__201106121242.wav',\n",
       " 'artifact__201106211041.wav',\n",
       " 'normal__201102081321.wav',\n",
       " 'Aunlabelledtest__201103201314.wav',\n",
       " 'murmur__201101051104.wav',\n",
       " 'normal__201106111136.wav',\n",
       " 'artifact__201106131834.wav',\n",
       " 'Aunlabelledtest__201108222225.wav',\n",
       " 'murmur__201102051443.wav',\n",
       " 'artifact__201106190520.wav',\n",
       " 'Aunlabelledtest__201103170122.wav',\n",
       " 'murmur__201108222253.wav',\n",
       " 'normal__201106210943.wav',\n",
       " 'artifact__201106101314.wav',\n",
       " 'Aunlabelledtest__201108222247.wav',\n",
       " 'murmur__201108222226.wav',\n",
       " 'Aunlabelledtest__201101091156.wav',\n",
       " 'Aunlabelledtest__201101110659.wav',\n",
       " 'normal__201108011112.wav',\n",
       " 'murmur__201108222243.wav',\n",
       " 'murmur__201106141148.wav',\n",
       " 'murmur__201101180902.wav',\n",
       " 'artifact__201106141701.wav',\n",
       " 'artifact__201106212112.wav',\n",
       " 'extrahls__201101161027.wav',\n",
       " 'artifact__201105061143.wav',\n",
       " 'murmur__201108222252.wav',\n",
       " 'murmur__201101051108.wav',\n",
       " 'murmur__201108222258.wav',\n",
       " 'extrahls__201101241423.wav',\n",
       " 'Aunlabelledtest__201104012144.wav',\n",
       " 'Aunlabelledtest__201106040930.wav',\n",
       " 'Aunlabelledtest__201101241434.wav',\n",
       " 'Aunlabelledtest__201101152256.wav',\n",
       " 'Aunlabelledtest__201102081045.wav',\n",
       " 'extrahls__201101160804.wav',\n",
       " 'artifact__201105190800.wav',\n",
       " 'extrahls__201104021355.wav',\n",
       " 'Aunlabelledtest__201108222257.wav',\n",
       " 'artifact__201106131835.wav',\n",
       " 'artifact__201106161019.wav',\n",
       " 'Aunlabelledtest__201106130440.wav',\n",
       " 'Aunlabelledtest__201108222222.wav',\n",
       " 'murmur__201108222237.wav',\n",
       " 'normal__201103170121.wav',\n",
       " 'extrahls__201103170134.wav',\n",
       " 'murmur__201108222245.wav',\n",
       " 'normal__201102270940.wav',\n",
       " 'Aunlabelledtest__201106171155.wav',\n",
       " 'murmur__201108222231.wav',\n",
       " 'normal__201104141251.wav',\n",
       " 'extrahls__201101091153.wav',\n",
       " 'normal__201102081152.wav',\n",
       " 'normal__201103090635.wav',\n",
       " 'artifact__201106121445.wav',\n",
       " 'artifact__201105041959.wav',\n",
       " 'extrahls__201104270459.wav',\n",
       " 'Aunlabelledtest__201108011117.wav',\n",
       " 'artifact__201012172012.wav',\n",
       " 'Aunlabelledtest__201101220549.wav',\n",
       " 'normal__201105021654.wav',\n",
       " 'artifact__201106050353.wav',\n",
       " 'Aunlabelledtest__201105011546.wav',\n",
       " 'normal__201106151236.wav',\n",
       " 'artifact__201106070949.wav',\n",
       " 'normal__201102260502.wav',\n",
       " 'artifact__201106040722.wav',\n",
       " 'Aunlabelledtest__201106111419.wav',\n",
       " 'normal__201106221450.wav',\n",
       " 'Aunlabelledtest__201106010807.wav',\n",
       " 'extrahls__201102070251.wav',\n",
       " 'Aunlabelledtest__201106212102.wav',\n",
       " 'normal__201103101140.wav',\n",
       " 'murmur__201104241315.wav',\n",
       " 'murmur__201108222224.wav',\n",
       " 'artifact__201106021541.wav',\n",
       " 'Aunlabelledtest__201108222244.wav',\n",
       " 'extrahls__201101070953.wav',\n",
       " 'murmur__201108222246.wav',\n",
       " 'Aunlabelledtest__201103241336.wav',\n",
       " 'artifact__201106221254.wav',\n",
       " 'murmur__201101051114.wav',\n",
       " 'murmur__201102052338.wav',\n",
       " 'Aunlabelledtest__201106191034.wav',\n",
       " 'normal__201105021804.wav',\n",
       " 'Aunlabelledtest__201108222234.wav',\n",
       " 'normal__201105151450.wav',\n",
       " 'Aunlabelledtest__201106061215.wav',\n",
       " 'artifact__201106110909.wav',\n",
       " 'Aunlabelledtest__201101061552.wav',\n",
       " 'Aunlabelledtest__201101051105.wav',\n",
       " 'normal__201101151127.wav',\n",
       " 'Aunlabelledtest__20110501548.wav',\n",
       " 'extrahls__201104270458.wav',\n",
       " 'normal__201108011118.wav',\n",
       " 'normal__201108011114.wav',\n",
       " 'extrahls__201101152255.wav',\n",
       " 'extrahls__201104140118.wav',\n",
       " 'Aunlabelledtest__201012172010.wav',\n",
       " 'artifact__201106211430.wav',\n",
       " 'extrahls__201102241217.wav',\n",
       " 'artifact__201105280851.wav',\n",
       " 'normal__201103140132.wav',\n",
       " 'murmur__201103291548.wav',\n",
       " 'Aunlabelledtest__201108011111.wav',\n",
       " 'artifact__201105040918.wav',\n",
       " 'murmur__201108222221.wav',\n",
       " 'artifact__201106101955.wav',\n",
       " 'normal__201103151912.wav',\n",
       " 'artifact__201106070537.wav',\n",
       " 'artifact__201106030612.wav',\n",
       " 'normal__201108011115.wav',\n",
       " 'Aunlabelledtest__201108222228.wav',\n",
       " 'normal__201103221214.wav',\n",
       " 'artifact__201106161016.wav',\n",
       " 'Aunlabelledtest__201106061104.wav',\n",
       " 'Aunlabelledtest__201102200848.wav',\n",
       " 'normal__201105011626.wav',\n",
       " 'murmur__201108222251.wav',\n",
       " 'artifact__201106041452.wav',\n",
       " 'normal__201106141148.wav']"
      ]
     },
     "execution_count": 5,
     "metadata": {},
     "output_type": "execute_result"
    }
   ],
   "source": [
    "import os \n",
    "\n",
    "os.listdir(\"/Data2/heart_sound_dataset/kag_dataset_1/set_a\")"
   ]
  },
  {
   "cell_type": "code",
   "execution_count": null,
   "metadata": {},
   "outputs": [],
   "source": []
  }
 ],
 "metadata": {
  "kernelspec": {
   "display_name": "base",
   "language": "python",
   "name": "python3"
  },
  "language_info": {
   "codemirror_mode": {
    "name": "ipython",
    "version": 3
   },
   "file_extension": ".py",
   "mimetype": "text/x-python",
   "name": "python",
   "nbconvert_exporter": "python",
   "pygments_lexer": "ipython3",
   "version": "3.10.11"
  }
 },
 "nbformat": 4,
 "nbformat_minor": 2
}
