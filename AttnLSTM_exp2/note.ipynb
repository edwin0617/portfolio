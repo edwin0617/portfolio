{
 "cells": [
  {
   "cell_type": "code",
   "execution_count": 1,
   "metadata": {},
   "outputs": [
    {
     "name": "stdout",
     "output_type": "stream",
     "text": [
      "/Data1/hmd2/notebooks_th/AttnLSTM_exp2\n"
     ]
    }
   ],
   "source": [
    "cd /Data1/hmd2/notebooks_th/AttnLSTM_exp2/"
   ]
  },
  {
   "cell_type": "code",
   "execution_count": 2,
   "metadata": {},
   "outputs": [
    {
     "name": "stderr",
     "output_type": "stream",
     "text": [
      "/opt/conda/lib/python3.10/site-packages/torch/functional.py:641: UserWarning: stft with return_complex=False is deprecated. In a future pytorch release, stft will return complex tensors for all inputs, and return_complex=False will raise an error.\n",
      "Note: you can still call torch.view_as_real on the complex output to recover the old return format. (Triggered internally at /opt/conda/conda-bld/pytorch_1682343967769/work/aten/src/ATen/native/SpectralOps.cpp:862.)\n",
      "  return _VF.stft(input, n_fft, hop_length, win_length, window,  # type: ignore[attr-defined]\n"
     ]
    }
   ],
   "source": [
    "from exp_settings import get_config\n",
    "from dataset import merge_df, load_dataframes, Stronglabeled_Dataset, Unlabeled_Dataset"
   ]
  },
  {
   "cell_type": "code",
   "execution_count": 3,
   "metadata": {},
   "outputs": [
    {
     "name": "stdout",
     "output_type": "stream",
     "text": [
      "\n",
      "Train with 76 patients, 256 recording files.\n"
     ]
    }
   ],
   "source": [
    "config = get_config()\n",
    "\n",
    "df_dict = load_dataframes(config)"
   ]
  },
  {
   "cell_type": "code",
   "execution_count": 4,
   "metadata": {},
   "outputs": [
    {
     "data": {
      "text/html": [
       "<div>\n",
       "<style scoped>\n",
       "    .dataframe tbody tr th:only-of-type {\n",
       "        vertical-align: middle;\n",
       "    }\n",
       "\n",
       "    .dataframe tbody tr th {\n",
       "        vertical-align: top;\n",
       "    }\n",
       "\n",
       "    .dataframe thead th {\n",
       "        text-align: right;\n",
       "    }\n",
       "</style>\n",
       "<table border=\"1\" class=\"dataframe\">\n",
       "  <thead>\n",
       "    <tr style=\"text-align: right;\">\n",
       "      <th></th>\n",
       "      <th>label</th>\n",
       "      <th>mid_path</th>\n",
       "      <th>filename</th>\n",
       "      <th>absolute_path</th>\n",
       "      <th>audio_len</th>\n",
       "    </tr>\n",
       "  </thead>\n",
       "  <tbody>\n",
       "    <tr>\n",
       "      <th>0</th>\n",
       "      <td>Absent</td>\n",
       "      <td>kag_dataset_1/set_a</td>\n",
       "      <td>normal__201103140135.wav</td>\n",
       "      <td>/Data2/heart_sound_dataset/kag_dataset_1/set_a...</td>\n",
       "      <td>7.94725</td>\n",
       "    </tr>\n",
       "    <tr>\n",
       "      <th>1</th>\n",
       "      <td>Absent</td>\n",
       "      <td>kag_dataset_1/set_a</td>\n",
       "      <td>normal__201103140822.wav</td>\n",
       "      <td>/Data2/heart_sound_dataset/kag_dataset_1/set_a...</td>\n",
       "      <td>8.01400</td>\n",
       "    </tr>\n",
       "    <tr>\n",
       "      <th>2</th>\n",
       "      <td>Present</td>\n",
       "      <td>kag_dataset_1/set_a</td>\n",
       "      <td>murmur__201108222232.wav</td>\n",
       "      <td>/Data2/heart_sound_dataset/kag_dataset_1/set_a...</td>\n",
       "      <td>7.93575</td>\n",
       "    </tr>\n",
       "    <tr>\n",
       "      <th>3</th>\n",
       "      <td>Absent</td>\n",
       "      <td>kag_dataset_1/set_a</td>\n",
       "      <td>normal__201106221418.wav</td>\n",
       "      <td>/Data2/heart_sound_dataset/kag_dataset_1/set_a...</td>\n",
       "      <td>7.00300</td>\n",
       "    </tr>\n",
       "    <tr>\n",
       "      <th>4</th>\n",
       "      <td>Present</td>\n",
       "      <td>kag_dataset_1/set_a</td>\n",
       "      <td>murmur__201108222256.wav</td>\n",
       "      <td>/Data2/heart_sound_dataset/kag_dataset_1/set_a...</td>\n",
       "      <td>7.93575</td>\n",
       "    </tr>\n",
       "  </tbody>\n",
       "</table>\n",
       "</div>"
      ],
      "text/plain": [
       "     label             mid_path                  filename  \\\n",
       "0   Absent  kag_dataset_1/set_a  normal__201103140135.wav   \n",
       "1   Absent  kag_dataset_1/set_a  normal__201103140822.wav   \n",
       "2  Present  kag_dataset_1/set_a  murmur__201108222232.wav   \n",
       "3   Absent  kag_dataset_1/set_a  normal__201106221418.wav   \n",
       "4  Present  kag_dataset_1/set_a  murmur__201108222256.wav   \n",
       "\n",
       "                                       absolute_path  audio_len  \n",
       "0  /Data2/heart_sound_dataset/kag_dataset_1/set_a...    7.94725  \n",
       "1  /Data2/heart_sound_dataset/kag_dataset_1/set_a...    8.01400  \n",
       "2  /Data2/heart_sound_dataset/kag_dataset_1/set_a...    7.93575  \n",
       "3  /Data2/heart_sound_dataset/kag_dataset_1/set_a...    7.00300  \n",
       "4  /Data2/heart_sound_dataset/kag_dataset_1/set_a...    7.93575  "
      ]
     },
     "execution_count": 4,
     "metadata": {},
     "output_type": "execute_result"
    }
   ],
   "source": [
    "concat_unlabeld_df = df_dict[\"unlabeled_df\"] \n",
    "concat_unlabeld_df.head()"
   ]
  },
  {
   "cell_type": "code",
   "execution_count": 6,
   "metadata": {},
   "outputs": [
    {
     "data": {
      "text/plain": [
       "PosixPath('/Data2/heart_sound_dataset/kag_dataset_1/set_a/normal__201103140135.wav')"
      ]
     },
     "execution_count": 6,
     "metadata": {},
     "output_type": "execute_result"
    }
   ],
   "source": [
    "concat_unlabeld_df.absolute_path[0]"
   ]
  },
  {
   "cell_type": "code",
   "execution_count": null,
   "metadata": {},
   "outputs": [],
   "source": []
  },
  {
   "cell_type": "code",
   "execution_count": null,
   "metadata": {},
   "outputs": [],
   "source": []
  }
 ],
 "metadata": {
  "kernelspec": {
   "display_name": "base",
   "language": "python",
   "name": "python3"
  },
  "language_info": {
   "codemirror_mode": {
    "name": "ipython",
    "version": 3
   },
   "file_extension": ".py",
   "mimetype": "text/x-python",
   "name": "python",
   "nbconvert_exporter": "python",
   "pygments_lexer": "ipython3",
   "version": "3.10.11"
  }
 },
 "nbformat": 4,
 "nbformat_minor": 2
}
