{
 "cells": [
  {
   "cell_type": "code",
   "execution_count": 1,
   "metadata": {},
   "outputs": [
    {
     "name": "stdout",
     "output_type": "stream",
     "text": [
      "/Data1/hmd2/notebooks_th/AttnLSTM_exp\n"
     ]
    }
   ],
   "source": [
    "cd /Data1/hmd2/notebooks_th/AttnLSTM_exp"
   ]
  },
  {
   "cell_type": "code",
   "execution_count": 2,
   "metadata": {},
   "outputs": [
    {
     "name": "stdout",
     "output_type": "stream",
     "text": [
      "\n",
      "Training with 751 patients!\n",
      "\n"
     ]
    },
    {
     "name": "stderr",
     "output_type": "stream",
     "text": [
      "/opt/conda/lib/python3.10/site-packages/torch/functional.py:641: UserWarning: stft with return_complex=False is deprecated. In a future pytorch release, stft will return complex tensors for all inputs, and return_complex=False will raise an error.\n",
      "Note: you can still call torch.view_as_real on the complex output to recover the old return format. (Triggered internally at /opt/conda/conda-bld/pytorch_1682343967769/work/aten/src/ATen/native/SpectralOps.cpp:862.)\n",
      "  return _VF.stft(input, n_fft, hop_length, win_length, window,  # type: ignore[attr-defined]\n"
     ]
    }
   ],
   "source": [
    "import torch \n",
    "import torch.nn.functional as F\n",
    "import pathlib\n",
    "import seaborn as sns\n",
    "import matplotlib.pyplot as plt\n",
    "from model import MHA_LSTM\n",
    "\n",
    "\n",
    "import config\n",
    "from dataset import Stronglabeled_Dataset, recording_df"
   ]
  },
  {
   "cell_type": "code",
   "execution_count": 3,
   "metadata": {},
   "outputs": [],
   "source": [
    "def load_student_teacher_both(model_folder: pathlib.Path, model_name: str):\n",
    "    student, teacher = eval(model_name)(), eval(model_name)()\n",
    "    student.load_state_dict(torch.load(pathlib.Path(model_folder) / \"Best_student.pt\"))\n",
    "    teacher.load_state_dict(torch.load(pathlib.Path(model_folder) / \"Best_teacher.pt\"))\n",
    "    return student, teacher\n",
    "\n",
    "model = MHA_LSTM()\n",
    "model_folder = \"/Data1/hmd2/notebooks_th/AttnLSTM/exps/2024-10-24_18:11:50\"\n",
    "model_name = type(model).__name__\n",
    "student, teacher = load_student_teacher_both(model_folder, model_name)"
   ]
  },
  {
   "cell_type": "code",
   "execution_count": 4,
   "metadata": {},
   "outputs": [],
   "source": [
    "full_dataset = Stronglabeled_Dataset(config.train_data, \n",
    "                                     recording_df.index, recording_df.murmur_timing, \n",
    "                            recording_df.patient_murmur_label, recording_df.outcome_label,\n",
    "                            sampling_rate= config.sampling_rate,\n",
    "                            window_length= config.window_length,\n",
    "                            window_step= config.hop_length,\n",
    "                            freq_bins= None,\n",
    "                            clean_noise= False, #config.clean_noise,\n",
    "                            slice_feature= False,\n",
    "                            sequence_length= config.sequence_length)"
   ]
  },
  {
   "cell_type": "code",
   "execution_count": 5,
   "metadata": {},
   "outputs": [
    {
     "data": {
      "text/plain": [
       "(torch.Size([3, 906]), torch.Size([3, 1022]), torch.Size([3, 785]))"
      ]
     },
     "execution_count": 5,
     "metadata": {},
     "output_type": "execute_result"
    }
   ],
   "source": [
    "holosys_label, earlysys_label, midsys_label = None, None, None\n",
    "\n",
    "for idx, (mel, seq_label, mm_label, oc_label, wav_len, filename ) in enumerate(full_dataset):\n",
    "    if filename == \"9979_AV\":\n",
    "       holo_mel, holosys_label =  mel, seq_label\n",
    "    if filename == \"14241_AV\":\n",
    "        earlysys_mel, earlysys_label = mel, seq_label\n",
    "    if filename == \"46065_AV\":\n",
    "        midsys_mel, midsys_label = mel, seq_label\n",
    "    if filename == \"43852_MV\":\n",
    "        clean_mel, clean_label = mel, seq_label\n",
    "    if holosys_label is not None and earlysys_label is not None and midsys_label is not None:\n",
    "        break\n",
    "    \n",
    "holosys_label.shape, earlysys_label.shape, midsys_label.shape"
   ]
  },
  {
   "cell_type": "code",
   "execution_count": 8,
   "metadata": {},
   "outputs": [
    {
     "data": {
      "text/plain": [
       "(3, 1022)"
      ]
     },
     "execution_count": 8,
     "metadata": {},
     "output_type": "execute_result"
    }
   ],
   "source": [
    "tensor_np.shape"
   ]
  },
  {
   "cell_type": "code",
   "execution_count": 11,
   "metadata": {},
   "outputs": [
    {
     "data": {
      "text/plain": [
       "(3, 300)"
      ]
     },
     "execution_count": 11,
     "metadata": {},
     "output_type": "execute_result"
    }
   ],
   "source": [
    "tensor_np[:, 100: 400].shape"
   ]
  },
  {
   "cell_type": "code",
   "execution_count": 35,
   "metadata": {},
   "outputs": [
    {
     "data": {
      "image/png": "[encoded data removed]",
      "text/plain": [
       "<Figure size 600x200 with 2 Axes>"
      ]
     },
     "metadata": {},
     "output_type": "display_data"
    }
   ],
   "source": [
    "tensor_np = earlysys_label.numpy()\n",
    "\n",
    "C, T = tensor_np.shape\n",
    "\n",
    "class_list = [\"S1\", \"S2\", \"Murmur\"]\n",
    "\n",
    "# 히트맵 그리기\n",
    "plt.figure(figsize=(6, 2))\n",
    "sns.heatmap(tensor_np[:,  500 : 600], cmap=\"Blues\", cbar=True, xticklabels=False, yticklabels=[f'{class_list[i]}' for i in range(C)])\n",
    "plt.title(\"Sequence Label\")\n",
    "plt.xlabel(\"Timestep\")\n",
    "plt.ylabel(\"Class\")\n",
    "# plt.yticks(rotation=0)\n",
    "plt.show()"
   ]
  },
  {
   "cell_type": "code",
   "execution_count": 36,
   "metadata": {},
   "outputs": [],
   "source": [
    "holosys_seq_pred_tch, _ = teacher(earlysys_mel.unsqueeze(0))\n",
    "holosys_seq_pred_tch = F.sigmoid(holosys_seq_pred_tch).squeeze(0)"
   ]
  },
  {
   "cell_type": "code",
   "execution_count": 40,
   "metadata": {},
   "outputs": [
    {
     "data": {
      "image/png": "[encoded data removed]",
      "text/plain": [
       "<Figure size 600x200 with 2 Axes>"
      ]
     },
     "metadata": {},
     "output_type": "display_data"
    }
   ],
   "source": [
    "tensor_np = holosys_seq_pred_tch.detach().numpy()\n",
    "\n",
    "C, T = tensor_np.shape\n",
    "\n",
    "class_list = [\"S1\", \"S2\", \"Murmur\"]\n",
    "\n",
    "# 히트맵 그리기\n",
    "plt.figure(figsize=(6, 2))\n",
    "sns.heatmap(tensor_np[:, 500: 600], cmap=\"Blues\", cbar=True, xticklabels=False, yticklabels=[f'{class_list[i]}' for i in range(C)])\n",
    "plt.title(\"Sequence Label\")\n",
    "plt.title(\"Model Sequence Prediction\")\n",
    "plt.xlabel(\"Timestep\")\n",
    "plt.ylabel(\"Class\")\n",
    "plt.show()"
   ]
  },
  {
   "cell_type": "code",
   "execution_count": null,
   "metadata": {},
   "outputs": [],
   "source": [
    "tensor_np = clean_label.numpy()\n",
    "\n",
    "C, T = tensor_np.shape\n",
    "\n",
    "# 히트맵 그리기\n",
    "plt.figure(figsize=(8, 4))\n",
    "sns.heatmap(tensor_np, cmap=\"Blues\", cbar=True, xticklabels=False, yticklabels=[f'Class {i}' for i in range(C)])\n",
    "plt.title(\"Clean_seq_labels\")\n",
    "plt.xlabel(\"Timestep\")\n",
    "plt.ylabel(\"Class\")\n",
    "plt.show()"
   ]
  },
  {
   "cell_type": "code",
   "execution_count": null,
   "metadata": {},
   "outputs": [],
   "source": [
    "clean_seq_pred_tch, clean_mm_pred = teacher(clean_mel.unsqueeze(0))\n",
    "clean_mm_pred = F.softmax(clean_mm_pred, dim= -1)\n",
    "clean_seq_pred_tch = F.sigmoid(clean_seq_pred_tch).squeeze(0)\n",
    "\n",
    "tensor_np = clean_seq_pred_tch.detach().numpy()\n",
    "\n",
    "C, T = tensor_np.shape\n",
    "\n",
    "# 히트맵 그리기\n",
    "plt.figure(figsize=(8, 4))\n",
    "sns.heatmap(tensor_np, cmap=\"Blues\", cbar=True, xticklabels=False, yticklabels=[f'Class {i}' for i in range(C)])\n",
    "plt.title(\"Holosystolic_seq_labels\")\n",
    "plt.xlabel(\"Timestep\")\n",
    "plt.ylabel(\"Class\")\n",
    "plt.show()"
   ]
  }
 ],
 "metadata": {
  "kernelspec": {
   "display_name": "base",
   "language": "python",
   "name": "python3"
  },
  "language_info": {
   "codemirror_mode": {
    "name": "ipython",
    "version": 3
   },
   "file_extension": ".py",
   "mimetype": "text/x-python",
   "name": "python",
   "nbconvert_exporter": "python",
   "pygments_lexer": "ipython3",
   "version": "3.10.11"
  }
 },
 "nbformat": 4,
 "nbformat_minor": 2
}
