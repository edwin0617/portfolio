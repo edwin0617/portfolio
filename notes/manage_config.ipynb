{
 "cells": [
  {
   "cell_type": "code",
   "execution_count": 8,
   "metadata": {},
   "outputs": [
    {
     "name": "stdout",
     "output_type": "stream",
     "text": [
      "/Data1/hmd2/notebooks_th\n"
     ]
    }
   ],
   "source": [
    "cd /Data1/hmd2/notebooks_th/"
   ]
  },
  {
   "cell_type": "markdown",
   "metadata": {},
   "source": [
    "#### Save config"
   ]
  },
  {
   "cell_type": "code",
   "execution_count": 9,
   "metadata": {},
   "outputs": [],
   "source": [
    "import yaml\n",
    "\n",
    "\n",
    "# exclude_unlabeled = ['Aunlabelledtest__2011040239.wav', 'Aunlabelledtest__201103201314.wav', 'Aunlabelledtest__2011040239.wav', 'Aunlabelledtest__201103201314.wav']\n",
    "\n",
    "\n",
    "data = {\"data_preprocess\": {\"frequency_high\": 800,\n",
    "                            \"sampling_rate\": 4000,\n",
    "                            \"window_length\": 0.050,\n",
    "                            \"window_step\": 0.020, \n",
    "                            },\n",
    "        \"train_params\": {\"Forcheck_epoch\":1,\n",
    "                         \"max_epoch\": 400,\n",
    "                         \"bs_per_dataset\": 20,\n",
    "                        \"strong_batch_size\": 60,   # 82\n",
    "                        \"weak_batch_size\": 60,   # 12\n",
    "                        \"unlabel_batch_size\": 60,   # 16\n",
    "                         \"val_batch_size\": 128, \n",
    "                         \"train_lr\": 1e-4, \n",
    "                         \"train_patience\": 10, \n",
    "                         \"train_seq_length\": 6, \n",
    "                         \"w_weak\": 0.5,\n",
    "                         \"w_cons_max\": 2, \n",
    "                         \"w_weak_cons\": 1, \n",
    "                         \"w_gauss_noise\": 0.4, \n",
    "                         \"rampup_length\": 500, \n",
    "                         \"exponent\": -10.0, \n",
    "                         \"ema_factor\": 0.999,\n",
    "                         }, \n",
    "        \"data_path\": {\"train_data_path\": \"/Data2/murmur/train\", \n",
    "                      \"test_data_path\": \"/Data2/murmur/test\", \n",
    "                      \"external_data_subpath\": \n",
    "                          {\"pysionet_sufhsdb\": \"pysionet_sufhsdb\",\n",
    "                           \"pysionet_2016\": \"pysionet_2016\",\n",
    "                            \"kaggle_set_a\": \"kag_dataset_1/set_a\", \n",
    "                           \"kaggle_set_b\": \"kag_dataset_1/set_b\", \n",
    "                           }}, \n",
    "        \"debug_true\": False, \n",
    "        }"
   ]
  },
  {
   "cell_type": "code",
   "execution_count": 10,
   "metadata": {},
   "outputs": [],
   "source": [
    "with open(\"./config.yaml\", \"w\") as file:\n",
    "    yaml.dump(data, file, default_flow_style=False, allow_unicode=True)"
   ]
  },
  {
   "cell_type": "markdown",
   "metadata": {},
   "source": [
    "#### Copy config to default_config"
   ]
  },
  {
   "cell_type": "code",
   "execution_count": 11,
   "metadata": {},
   "outputs": [],
   "source": [
    "!cp config.yaml /Data1/hmd2/notebooks_th/GRU_loss_add/config_default.yaml"
   ]
  },
  {
   "cell_type": "markdown",
   "metadata": {},
   "source": [
    "#### Check config to default_config"
   ]
  },
  {
   "cell_type": "code",
   "execution_count": 12,
   "metadata": {},
   "outputs": [],
   "source": [
    "import yaml\n",
    "\n",
    "config_dir = \"/Data1/hmd2/notebooks_th/GRU_loss_add/config_default.yaml\"\n",
    "\n",
    "with open(config_dir, \"r\") as f:\n",
    "        configs = yaml.safe_load(f)"
   ]
  },
  {
   "cell_type": "code",
   "execution_count": 13,
   "metadata": {},
   "outputs": [
    {
     "data": {
      "text/plain": [
       "{'data_path': {'external_data_subpath': {'kaggle_set_a': 'kag_dataset_1/set_a',\n",
       "   'kaggle_set_b': 'kag_dataset_1/set_b',\n",
       "   'pysionet_2016': 'pysionet_2016',\n",
       "   'pysionet_sufhsdb': 'pysionet_sufhsdb'},\n",
       "  'test_data_path': '/Data2/murmur/test',\n",
       "  'train_data_path': '/Data2/murmur/train'},\n",
       " 'data_preprocess': {'frequency_high': 800,\n",
       "  'sampling_rate': 4000,\n",
       "  'window_length': 0.05,\n",
       "  'window_step': 0.02},\n",
       " 'debug_true': False,\n",
       " 'train_params': {'Forcheck_epoch': 1,\n",
       "  'bs_per_dataset': 20,\n",
       "  'ema_factor': 0.999,\n",
       "  'exponent': -10.0,\n",
       "  'max_epoch': 400,\n",
       "  'rampup_length': 500,\n",
       "  'strong_batch_size': 60,\n",
       "  'train_lr': 0.0001,\n",
       "  'train_patience': 10,\n",
       "  'train_seq_length': 6,\n",
       "  'unlabel_batch_size': 60,\n",
       "  'val_batch_size': 128,\n",
       "  'w_cons_max': 2,\n",
       "  'w_gauss_noise': 0.4,\n",
       "  'w_weak': 0.5,\n",
       "  'w_weak_cons': 1,\n",
       "  'weak_batch_size': 60}}"
      ]
     },
     "execution_count": 13,
     "metadata": {},
     "output_type": "execute_result"
    }
   ],
   "source": [
    "configs"
   ]
  },
  {
   "cell_type": "code",
   "execution_count": 14,
   "metadata": {},
   "outputs": [
    {
     "data": {
      "text/plain": [
       "{'Forcheck_epoch': 1,\n",
       " 'bs_per_dataset': 20,\n",
       " 'ema_factor': 0.999,\n",
       " 'exponent': -10.0,\n",
       " 'max_epoch': 400,\n",
       " 'rampup_length': 500,\n",
       " 'strong_batch_size': 60,\n",
       " 'train_lr': 0.0001,\n",
       " 'train_patience': 10,\n",
       " 'train_seq_length': 6,\n",
       " 'unlabel_batch_size': 60,\n",
       " 'val_batch_size': 128,\n",
       " 'w_cons_max': 2,\n",
       " 'w_gauss_noise': 0.4,\n",
       " 'w_weak': 0.5,\n",
       " 'w_weak_cons': 1,\n",
       " 'weak_batch_size': 60}"
      ]
     },
     "execution_count": 14,
     "metadata": {},
     "output_type": "execute_result"
    }
   ],
   "source": [
    "configs[\"train_params\"]"
   ]
  },
  {
   "cell_type": "code",
   "execution_count": null,
   "metadata": {},
   "outputs": [],
   "source": []
  }
 ],
 "metadata": {
  "kernelspec": {
   "display_name": "base",
   "language": "python",
   "name": "python3"
  },
  "language_info": {
   "codemirror_mode": {
    "name": "ipython",
    "version": 3
   },
   "file_extension": ".py",
   "mimetype": "text/x-python",
   "name": "python",
   "nbconvert_exporter": "python",
   "pygments_lexer": "ipython3",
   "version": "3.10.11"
  }
 },
 "nbformat": 4,
 "nbformat_minor": 2
}
