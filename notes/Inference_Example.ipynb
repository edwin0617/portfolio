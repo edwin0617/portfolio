{
 "cells": [
  {
   "cell_type": "code",
   "execution_count": 1,
   "metadata": {},
   "outputs": [
    {
     "name": "stdout",
     "output_type": "stream",
     "text": [
      "/Data1/AttnLSTM_exp2\n"
     ]
    }
   ],
   "source": [
    "cd /Data1/AttnLSTM_exp2"
   ]
  },
  {
   "cell_type": "markdown",
   "metadata": {},
   "source": [
    "## Load Packages"
   ]
  },
  {
   "cell_type": "code",
   "execution_count": 2,
   "metadata": {},
   "outputs": [],
   "source": [
    "import os \n",
    "import pathlib\n",
    "import scipy.io as spio\n",
    "from scipy.signal import resample\n",
    "from omegaconf import OmegaConf\n",
    "\n",
    "import torch \n",
    "import torch.nn as nn \n",
    "import torch.nn.functional as F"
   ]
  },
  {
   "cell_type": "markdown",
   "metadata": {},
   "source": [
    "## Load Modules & Trained Model"
   ]
  },
  {
   "cell_type": "code",
   "execution_count": 3,
   "metadata": {},
   "outputs": [],
   "source": [
    "# from exp_settings import get_config\n",
    "from dataset import calculate_features\n",
    "from model import MHA_LSTM_simpler\n",
    "\n",
    "config_path = '/Data1/AttnLSTM_exp2/exps/MHA_LSTM_Semi/2025-01-17_21:15:30/config_result.yaml'\n",
    "config = OmegaConf.load(config_path)\n",
    "\n",
    "model = MHA_LSTM_simpler()"
   ]
  },
  {
   "cell_type": "code",
   "execution_count": 4,
   "metadata": {},
   "outputs": [
    {
     "data": {
      "text/plain": [
       "MHA_LSTM_simpler(\n",
       "  (rnn): LSTM(40, 60, num_layers=3, batch_first=True, dropout=0.1, bidirectional=True)\n",
       "  (layer_norm1): LayerNorm((120,), eps=1e-05, elementwise_affine=True)\n",
       "  (selfattn_layer): MultiheadAttention(\n",
       "    (out_proj): NonDynamicallyQuantizableLinear(in_features=120, out_features=120, bias=True)\n",
       "  )\n",
       "  (frame_linear): Sequential(\n",
       "    (0): Linear(in_features=120, out_features=40, bias=True)\n",
       "    (1): LayerNorm((40,), eps=1e-05, elementwise_affine=True)\n",
       "    (2): GELU(approximate='none')\n",
       "    (3): Dropout(p=0.3, inplace=False)\n",
       "    (4): Linear(in_features=40, out_features=3, bias=True)\n",
       "  )\n",
       "  (murmur_linear): Sequential(\n",
       "    (0): Linear(in_features=1, out_features=2, bias=True)\n",
       "  )\n",
       ")"
      ]
     },
     "execution_count": 4,
     "metadata": {},
     "output_type": "execute_result"
    }
   ],
   "source": [
    "best_params_path = \"/Data1/AttnLSTM_exp2/exps/MHA_LSTM_Semi/2025-01-17_21:15:30/Best_student.pt\"\n",
    "\n",
    "model.load_state_dict(torch.load(best_params_path))\n",
    "model.eval()"
   ]
  },
  {
   "cell_type": "markdown",
   "metadata": {},
   "source": [
    "## Change filepath to test your data."
   ]
  },
  {
   "cell_type": "code",
   "execution_count": 5,
   "metadata": {},
   "outputs": [],
   "source": [
    "example_filepath = '/Data2/murmur/test/73497_AV.wav'"
   ]
  },
  {
   "cell_type": "markdown",
   "metadata": {},
   "source": [
    "### Prediction of example file"
   ]
  },
  {
   "cell_type": "code",
   "execution_count": 6,
   "metadata": {},
   "outputs": [
    {
     "name": "stdout",
     "output_type": "stream",
     "text": [
      "Present\n"
     ]
    }
   ],
   "source": [
    "sampling_rate = config.data_preprocess.sampling_rate\n",
    "threshold = config.exp_results.optim_threshold_stu # optimized threshold\n",
    "\n",
    "sr, recording = spio.wavfile.read(example_filepath)\n",
    "\n",
    "if sr != sampling_rate:\n",
    "    num_samples = int(len(recording) * sampling_rate / sr)\n",
    "    recording = resample(recording, num_samples)\n",
    "recording = torch.as_tensor(recording.copy())\n",
    "    \n",
    "mel, _ = calculate_features(recording, sampling_rate)\n",
    "mel = mel.unsqueeze(0)\n",
    "\n",
    "_, murmur_pred = model(mel)\n",
    "murmur_pred = F.softmax(murmur_pred, dim= -1)\n",
    "\n",
    "murmur_probability = murmur_pred.squeeze(0)[1].detach().cpu().item()\n",
    "\n",
    "if murmur_probability > threshold:\n",
    "    print('Present')\n",
    "else:\n",
    "    print(\"Absent\")"
   ]
  },
  {
   "cell_type": "code",
   "execution_count": 7,
   "metadata": {},
   "outputs": [
    {
     "name": "stdout",
     "output_type": "stream",
     "text": [
      "\n",
      "Train with 751 patients, 2531 recording files.\n"
     ]
    },
    {
     "data": {
      "text/html": [
       "<div>\n",
       "<style scoped>\n",
       "    .dataframe tbody tr th:only-of-type {\n",
       "        vertical-align: middle;\n",
       "    }\n",
       "\n",
       "    .dataframe tbody tr th {\n",
       "        vertical-align: top;\n",
       "    }\n",
       "\n",
       "    .dataframe thead th {\n",
       "        text-align: right;\n",
       "    }\n",
       "</style>\n",
       "<table border=\"1\" class=\"dataframe\">\n",
       "  <thead>\n",
       "    <tr style=\"text-align: right;\">\n",
       "      <th></th>\n",
       "      <th>murmur_timing</th>\n",
       "      <th>rec_murmur_label</th>\n",
       "      <th>patient_murmur_label</th>\n",
       "      <th>outcome_label</th>\n",
       "    </tr>\n",
       "    <tr>\n",
       "      <th>recording</th>\n",
       "      <th></th>\n",
       "      <th></th>\n",
       "      <th></th>\n",
       "      <th></th>\n",
       "    </tr>\n",
       "  </thead>\n",
       "  <tbody>\n",
       "    <tr>\n",
       "      <th>33151_AV</th>\n",
       "      <td>Holosystolic</td>\n",
       "      <td>Absent</td>\n",
       "      <td>Present</td>\n",
       "      <td>Abnormal</td>\n",
       "    </tr>\n",
       "    <tr>\n",
       "      <th>33151_PV</th>\n",
       "      <td>Holosystolic</td>\n",
       "      <td>Absent</td>\n",
       "      <td>Present</td>\n",
       "      <td>Abnormal</td>\n",
       "    </tr>\n",
       "    <tr>\n",
       "      <th>33151_TV</th>\n",
       "      <td>Holosystolic</td>\n",
       "      <td>Present</td>\n",
       "      <td>Present</td>\n",
       "      <td>Abnormal</td>\n",
       "    </tr>\n",
       "    <tr>\n",
       "      <th>33151_MV</th>\n",
       "      <td>Holosystolic</td>\n",
       "      <td>Present</td>\n",
       "      <td>Present</td>\n",
       "      <td>Abnormal</td>\n",
       "    </tr>\n",
       "    <tr>\n",
       "      <th>38337_AV</th>\n",
       "      <td>nan</td>\n",
       "      <td>Absent</td>\n",
       "      <td>Absent</td>\n",
       "      <td>Abnormal</td>\n",
       "    </tr>\n",
       "  </tbody>\n",
       "</table>\n",
       "</div>"
      ],
      "text/plain": [
       "          murmur_timing rec_murmur_label patient_murmur_label outcome_label\n",
       "recording                                                                  \n",
       "33151_AV   Holosystolic           Absent              Present      Abnormal\n",
       "33151_PV   Holosystolic           Absent              Present      Abnormal\n",
       "33151_TV   Holosystolic          Present              Present      Abnormal\n",
       "33151_MV   Holosystolic          Present              Present      Abnormal\n",
       "38337_AV            nan           Absent               Absent      Abnormal"
      ]
     },
     "execution_count": 7,
     "metadata": {},
     "output_type": "execute_result"
    }
   ],
   "source": [
    "from dataset import load_dataframes\n",
    "\n",
    "df_dict = load_dataframes(config)\n",
    "test_recording_df = df_dict[\"test_recording_df\"]\n",
    "test_recording_df.head()"
   ]
  },
  {
   "cell_type": "code",
   "execution_count": 8,
   "metadata": {},
   "outputs": [
    {
     "data": {
      "text/plain": [
       "'Present'"
      ]
     },
     "execution_count": 8,
     "metadata": {},
     "output_type": "execute_result"
    }
   ],
   "source": [
    "# Successed to predcit 73497_AV has Murmur\n",
    "test_recording_df.loc[\"73497_AV\"][\"rec_murmur_label\"]"
   ]
  }
 ],
 "metadata": {
  "kernelspec": {
   "display_name": "base",
   "language": "python",
   "name": "python3"
  },
  "language_info": {
   "codemirror_mode": {
    "name": "ipython",
    "version": 3
   },
   "file_extension": ".py",
   "mimetype": "text/x-python",
   "name": "python",
   "nbconvert_exporter": "python",
   "pygments_lexer": "ipython3",
   "version": "3.10.11"
  }
 },
 "nbformat": 4,
 "nbformat_minor": 2
}
